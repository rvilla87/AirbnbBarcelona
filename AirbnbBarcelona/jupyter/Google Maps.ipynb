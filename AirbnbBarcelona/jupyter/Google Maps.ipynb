{
 "cells": [
  {
   "cell_type": "code",
   "execution_count": 201,
   "metadata": {
    "collapsed": true
   },
   "outputs": [],
   "source": [
    "from ipywidgets import widgets\n",
    "from ipywidgets import interact, interactive, fixed, interact_manual\n",
    "from IPython.display import display, clear_output\n",
    "import numpy as np\n",
    "import pandas as pd\n",
    "import gmaps\n",
    "import googlemaps\n",
    "import os\n",
    "# print(os.getcwd()) # es la carpeta jupyter\n",
    "import sys\n",
    "sys.path.append('../../') # secret.py lo cargará de la raíz del proyecto Data-Science\n",
    "import secret\n",
    "gmaps.configure(api_key=secret.GMAPS_KEY) # Your Google API key\n",
    "#gmaps = googlemaps.Client(key=secret.GMAPS_KEY)"
   ]
  },
  {
   "cell_type": "code",
   "execution_count": 153,
   "metadata": {
    "scrolled": true
   },
   "outputs": [
    {
     "data": {
      "application/vnd.jupyter.widget-view+json": {
       "model_id": "0747a02e6fc941ce85fcc2c72f3f7164"
      }
     },
     "metadata": {},
     "output_type": "display_data"
    }
   ],
   "source": [
    "ruta_datasets = '../datasets/'\n",
    "limit = 10 # numero de registros a leer, -1 para todos\n",
    "\n",
    "fields_to_drop = ['host_id', 'host_name', 'neighbourhood_group', 'neighbourhood', 'calculated_host_listings_count',\n",
    "                  'availability_365', 'price', 'number_of_reviews', 'last_review', 'reviews_per_month']\n",
    "listing = pd.read_csv(ruta_datasets + 'listings.csv').head(limit).drop(fields_to_drop, axis=1)\n",
    "\n",
    "fields_to_drop = ['summary', 'space', 'description', 'neighborhood_overview', 'transit', 'access', 'interaction',\n",
    "                  'name', 'notes', 'house_rules', 'host_about', 'host_verifications', 'latitude', 'longitude',\n",
    "                  'room_type', 'minimum_nights']\n",
    "listing_detail = pd.read_csv(ruta_datasets + 'listings.csv.gz',\n",
    "                             dtype={'zipcode': str}).head(limit).drop(fields_to_drop, axis=1)\n",
    "\n",
    "lista_total = pd.merge(listing, listing_detail, on='id')\n",
    "\n",
    "info_box_template = \"\"\"\n",
    "<dl>\n",
    "<dt>ID: {id}</dt><dd>{name}</dd>\n",
    "<dt>Precio</dt><dd>{price}</dd>\n",
    "<dt>Tipo de propiedad y habitación</dt><dd>{property_type}, {room_type}</dd>\n",
    "<dt>Mínimo de noches</dt><dd>{minimum_nights}</dd>\n",
    "<dt>Reseñas realizadas</dt><dd>{number_of_reviews}</dd>\n",
    "</dl>\n",
    "\"\"\"\n",
    "apartamento_info = []\n",
    "localizaciones = []\n",
    "\n",
    "# Iterando con el dataframe convertido a diccionario (iterar sobre el dataframe mejor)\n",
    "#dict_listing = lista_total.to_dict(orient='index')\n",
    "#for a in dict_listing:\n",
    "#    apartamento_info += [info_box_template.format(\n",
    "#        id=dict_listing[a]['id'], name=dict_listing[a]['name'], price=dict_listing[a]['price'],\n",
    "#        property_type=dict_listing[a]['property_type'], room_type=dict_listing[a]['room_type'],\n",
    "#        minimum_nights=dict_listing[a]['minimum_nights'], number_of_reviews=dict_listing[a]['number_of_reviews'])]\n",
    "#    localizaciones += [[dict_listing[a]['latitude'], dict_listing[a]['longitude']]]\n",
    "\n",
    "# Iterando sobre el dataframe\n",
    "for row in lista_total.itertuples():\n",
    "    apartamento_info += [info_box_template.format(\n",
    "        id=getattr(row, 'id'), name=getattr(row, 'name'), price=getattr(row, 'price'),\n",
    "        property_type=getattr(row, 'property_type'), room_type=getattr(row, 'room_type'),\n",
    "        minimum_nights=getattr(row, 'minimum_nights'), number_of_reviews=getattr(row, 'number_of_reviews'))]\n",
    "    localizaciones += [[getattr(row, 'latitude'), getattr(row, 'longitude')]]\n",
    "\n",
    "m = gmaps.Map()\n",
    "marker_layer = gmaps.marker_layer(localizaciones, info_box_content=apartamento_info)\n",
    "m.add_layer(marker_layer)\n",
    "m\n",
    "\n",
    "#interact"
   ]
  },
  {
   "cell_type": "code",
   "execution_count": null,
   "metadata": {
    "collapsed": true
   },
   "outputs": [],
   "source": []
  },
  {
   "cell_type": "code",
   "execution_count": null,
   "metadata": {
    "collapsed": true
   },
   "outputs": [],
   "source": []
  },
  {
   "cell_type": "code",
   "execution_count": null,
   "metadata": {
    "collapsed": true
   },
   "outputs": [],
   "source": []
  },
  {
   "cell_type": "code",
   "execution_count": null,
   "metadata": {
    "scrolled": true
   },
   "outputs": [],
   "source": []
  },
  {
   "cell_type": "code",
   "execution_count": null,
   "metadata": {},
   "outputs": [],
   "source": []
  },
  {
   "cell_type": "code",
   "execution_count": null,
   "metadata": {
    "collapsed": true
   },
   "outputs": [],
   "source": []
  },
  {
   "cell_type": "code",
   "execution_count": 202,
   "metadata": {},
   "outputs": [
    {
     "data": {
      "application/vnd.jupyter.widget-view+json": {
       "model_id": "9c564b68e9d04c1eae4ef81659556eda"
      }
     },
     "metadata": {},
     "output_type": "display_data"
    },
    {
     "data": {
      "text/plain": [
       "<function __main__.mostrar_mapa>"
      ]
     },
     "execution_count": 202,
     "metadata": {},
     "output_type": "execute_result"
    }
   ],
   "source": [
    "ruta_datasets = '../datasets/'\n",
    "limit = 5 # numero de registros a leer, -1 para todos\n",
    "\n",
    "fields_to_drop = ['host_id', 'host_name', 'neighbourhood_group', 'neighbourhood', 'calculated_host_listings_count',\n",
    "                  'availability_365', 'number_of_reviews', 'last_review', 'reviews_per_month']\n",
    "listing = pd.read_csv(ruta_datasets + 'listings.csv').head(limit).drop(fields_to_drop, axis=1)\n",
    "\n",
    "fields_to_drop = ['summary', 'space', 'description', 'neighborhood_overview', 'transit', 'access', 'interaction',\n",
    "                  'name', 'notes', 'house_rules', 'host_about', 'host_verifications', 'latitude', 'longitude',\n",
    "                  'room_type', 'minimum_nights']\n",
    "listing_detail = pd.read_csv(ruta_datasets + 'listings.csv.gz',\n",
    "                             dtype={'zipcode': str}).head(limit).drop(fields_to_drop, axis=1)\n",
    "\n",
    "lista_total = pd.merge(listing, listing_detail, on='id')\n",
    "\n",
    "# Obtener: precio minimo y maximo (para interact)\n",
    "min_price = lista_total['price_x'].min(axis=0)\n",
    "max_price = lista_total['price_x'].max(axis=0)\n",
    "\n",
    "#print(\"min_price=%s, max_price=%s de %s registros\" % (min_price, max_price, limit))\n",
    "#sys.exit()\n",
    "\n",
    "def mostrar_mapa(price_filtro_max):\n",
    "    info_box_template = \"\"\"\n",
    "<dl>\n",
    "<dt>ID: {id}</dt><dd>{name}</dd>\n",
    "<dt>Precio</dt><dd>{price}</dd>\n",
    "<dt>Tipo de propiedad y habitación</dt><dd>{property_type}, {room_type}</dd>\n",
    "<dt>Mínimo de noches</dt><dd>{minimum_nights}</dd>\n",
    "<dt>Reseñas realizadas</dt><dd>{number_of_reviews}</dd>\n",
    "</dl>\n",
    "\"\"\"\n",
    "    apartamento_info = []\n",
    "    localizaciones = []\n",
    "\n",
    "    # Iterando sobre el dataframe\n",
    "    for row in lista_total.itertuples():\n",
    "        price_row = name=getattr(row, 'price_x')\n",
    "        if price_row <= price_filtro_max:\n",
    "            print(\"Si\")\n",
    "            apartamento_info += [info_box_template.format(\n",
    "                id=getattr(row, 'id'), name=getattr(row, 'name'), price=getattr(row, 'price_y'),\n",
    "                property_type=getattr(row, 'property_type'), room_type=getattr(row, 'room_type'),\n",
    "                minimum_nights=getattr(row, 'minimum_nights'), number_of_reviews=getattr(row, 'number_of_reviews'))]\n",
    "            localizaciones += [[getattr(row, 'latitude'), getattr(row, 'longitude')]]\n",
    "\n",
    "    print(\"antes clean\")\n",
    "    clear_output()\n",
    "    print(\"despues clean\")\n",
    "    m = gmaps.Map()\n",
    "    marker_layer = gmaps.marker_layer(localizaciones, info_box_content=apartamento_info)\n",
    "    m.add_layer(marker_layer)\n",
    "    return m\n",
    "\n",
    "#interact(mostrar_mapa, price = (min_price, max_price, 1))\n",
    "interact_manual(mostrar_mapa, price_filtro_max = (min_price, max_price, 1))"
   ]
  },
  {
   "cell_type": "code",
   "execution_count": null,
   "metadata": {
    "collapsed": true
   },
   "outputs": [],
   "source": []
  }
 ],
 "metadata": {
  "kernelspec": {
   "display_name": "Python 3",
   "language": "python",
   "name": "python3"
  },
  "language_info": {
   "codemirror_mode": {
    "name": "ipython",
    "version": 3
   },
   "file_extension": ".py",
   "mimetype": "text/x-python",
   "name": "python",
   "nbconvert_exporter": "python",
   "pygments_lexer": "ipython3",
   "version": "3.6.1"
  }
 },
 "nbformat": 4,
 "nbformat_minor": 1
}
