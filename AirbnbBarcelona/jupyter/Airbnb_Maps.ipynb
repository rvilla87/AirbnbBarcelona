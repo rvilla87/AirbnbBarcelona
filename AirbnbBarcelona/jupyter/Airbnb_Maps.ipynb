{
 "cells": [
  {
   "cell_type": "markdown",
   "metadata": {},
   "source": [
    "# AirbnbBarcelona"
   ]
  },
  {
   "cell_type": "markdown",
   "metadata": {},
   "source": [
    "## Importing libraries"
   ]
  },
  {
   "cell_type": "code",
   "execution_count": 1,
   "metadata": {
    "collapsed": true
   },
   "outputs": [],
   "source": [
    "from ipywidgets import interact, interactive, interact_manual, widgets, Label\n",
    "from IPython.display import display, clear_output\n",
    "import pandas as pd\n",
    "import matplotlib.pyplot as plt\n",
    "import matplotlib as mpl\n",
    "import gmaps\n",
    "import sys"
   ]
  },
  {
   "cell_type": "code",
   "execution_count": 2,
   "metadata": {
    "collapsed": true
   },
   "outputs": [],
   "source": [
    "#import os\n",
    "#print(os.getcwd()) # jupyter's folder"
   ]
  },
  {
   "cell_type": "markdown",
   "metadata": {},
   "source": [
    "## Load secret.py\n",
    "In **secret.py** I store my Google API key, and it's located in Data-Science's root folder."
   ]
  },
  {
   "cell_type": "code",
   "execution_count": 3,
   "metadata": {
    "collapsed": true
   },
   "outputs": [],
   "source": [
    "sys.path.append('../../')\n",
    "import secret\n",
    "gmaps.configure(api_key=secret.GMAPS_KEY) # Your Google API key"
   ]
  },
  {
   "cell_type": "markdown",
   "metadata": {},
   "source": [
    "## Define the dataset schema and load them"
   ]
  },
  {
   "cell_type": "code",
   "execution_count": 4,
   "metadata": {
    "collapsed": true
   },
   "outputs": [],
   "source": [
    "datasets_dir = '../datasets/'\n",
    "limit = 200 # number of rows to read, -1 to read entire dataset\n",
    "\n",
    "fields_to_drop = ['host_id', 'host_name', 'neighbourhood_group', 'neighbourhood', 'calculated_host_listings_count',\n",
    "                  'availability_365', 'number_of_reviews', 'last_review', 'reviews_per_month']\n",
    "listing = pd.read_csv(datasets_dir + 'listings.csv').head(limit).drop(fields_to_drop, axis=1)\n",
    "\n",
    "fields_to_drop = ['summary', 'space', 'description', 'neighborhood_overview', 'transit', 'access', 'interaction',\n",
    "                  'name', 'notes', 'house_rules', 'host_about', 'host_verifications', 'latitude', 'longitude',\n",
    "                  'room_type', 'minimum_nights']\n",
    "\n",
    "listing_detail = pd.read_csv(datasets_dir + 'listings.csv.gz',\n",
    "                             dtype={'zipcode': str}).head(limit).drop(fields_to_drop, axis=1)\n",
    "\n",
    "full_listing = pd.merge(listing, listing_detail, on='id')"
   ]
  },
  {
   "cell_type": "markdown",
   "metadata": {},
   "source": [
    "## Set some parameters"
   ]
  },
  {
   "cell_type": "code",
   "execution_count": 5,
   "metadata": {
    "collapsed": true
   },
   "outputs": [],
   "source": [
    "# min and max price of initial rows\n",
    "min_price = full_listing['price_x'].min(axis=0)\n",
    "max_price = full_listing['price_x'].max(axis=0)\n",
    "\n",
    "#print(\"min_price=%s, max_price=%s of %s rows\" % (min_price, max_price, limit))\n",
    "\n",
    "initial_rows = str(len(full_listing.index))\n",
    "\n",
    "license_check = widgets.Checkbox(\n",
    "    value=False,\n",
    "    description='With license',\n",
    "    disabled=False\n",
    ")"
   ]
  },
  {
   "cell_type": "markdown",
   "metadata": {},
   "source": [
    "## Define functions"
   ]
  },
  {
   "cell_type": "code",
   "execution_count": 6,
   "metadata": {
    "collapsed": true
   },
   "outputs": [],
   "source": [
    "def show_colorbar(label, inicio, num, final):\n",
    "    fig = plt.figure(figsize=(3, 2))\n",
    "    ax1 = fig.add_axes([0.5, 0.5, 0.9, 0.15])\n",
    "    cmap = mpl.colors.ListedColormap(['green', 'red'])\n",
    "    # If a ListedColormap is used, the length of the bounds array must be one greater\n",
    "    # than the length of the color list.  The bounds must be monotonically increasing.\n",
    "    bounds = [inicio, num, final]\n",
    "    cb2 = mpl.colorbar.ColorbarBase(ax1, cmap=cmap, boundaries=bounds,\n",
    "                                    spacing='proportional',  # TODO: fix this warning:\n",
    "                                                             #RuntimeWarning: divide by zero encountered in double_scalars\n",
    "                                    orientation='horizontal')\n",
    "    cb2.set_label(label)\n",
    "    plt.show()\n",
    "\n",
    "\n",
    "def show_pie_chart(labels, sizes):\n",
    "    # Pie chart, where the slices will be ordered and plotted counter-clockwise:\n",
    "    fig1, ax1 = plt.subplots()\n",
    "    ax1.pie(sizes, labels=labels, autopct='%1.1f%%', shadow=True, startangle=90)\n",
    "    ax1.axis('equal')  # Equal aspect ratio ensures that pie is drawn as a circle.\n",
    "    plt.show()\n",
    "\n",
    "\n",
    "def show_analysis(max_price_filter):\n",
    "    global m\n",
    "    m.close()  # closing possible previous gmap\n",
    "    m = gmaps.Map()\n",
    "\n",
    "    info_box_template = \"\"\"\n",
    "<dl>\n",
    "<dt>ID: {id}</dt><dd>{name}</dd>\n",
    "<dt>Price</dt><dd>{price}</dd>\n",
    "<dt>Property type and room type</dt><dd>{property_type}, {room_type}</dd>\n",
    "<dt>Minimun nights</dt><dd>{minimum_nights}</dd>\n",
    "<dt>Number of reviews</dt><dd>{number_of_reviews}</dd>\n",
    "</dl>\n",
    "\"\"\"\n",
    "    apartment_info = []\n",
    "    locations = []\n",
    "\n",
    "    # Applying needed filters\n",
    "    filtered_full_listing = full_listing.query('price_x <= %i' % max_price_filter)  # price\n",
    "\n",
    "    if license_check.value == True:\n",
    "        filtered_full_listing = filtered_full_listing.query('license == license')  # license\n",
    "\n",
    "\n",
    "    # Once we have the filtered dataFrame, we get the needed info\n",
    "    num_filtered_result = len(filtered_full_listing.index)\n",
    "    print(\"INFO: Initial rows to process: {}, rows after filtering: {}\".format(initial_rows, str(num_filtered_result)))\n",
    "    \n",
    "    if num_filtered_result == 0:\n",
    "        sys.exit(\"No hay resultados para el filtro indicado\")\n",
    "    \n",
    "    # license\n",
    "    num_no_license = len(filtered_full_listing.query('license != license'))\n",
    "    num_license = len(filtered_full_listing.query('license == license'))\n",
    "\n",
    "    # Required minimun nights\n",
    "    nights = filtered_full_listing['minimum_nights']\n",
    "    nights_values = nights.value_counts()\n",
    "    nights_index = [str(i) for i in nights_values.index]\n",
    "\n",
    "    # Calculation of percentage (not needed because matplotlib will calculate it for us)\n",
    "    #percentages = nights_values / num_filtered_result * 100\n",
    "\n",
    "    # Showing all needed graphics\n",
    "    # Matplotlib\n",
    "    # Colorbar showing apartments wit/without license\n",
    "    if num_license == 0:  # avoid exception\n",
    "        num_license = num_filtered_result\n",
    "    # TODO: fix showing red bar when having all licensed apartments\n",
    "    show_colorbar('Licenses', 0, num_license, num_filtered_result)\n",
    "\n",
    "    # Pie chart showing percentage of minimal nights to stay\n",
    "    show_pie_chart(nights_index, nights_values)\n",
    "\n",
    "    # GMAPS\n",
    "    # Itering the filtered dataframe in order to feed gmaps info\n",
    "    for row in filtered_full_listing.itertuples():\n",
    "        apartment_info += [info_box_template.format(\n",
    "            id=getattr(row, 'id'), name=getattr(row, 'name'), price=getattr(row, 'price_y'),\n",
    "            property_type=getattr(row, 'property_type'), room_type=getattr(row, 'room_type'),\n",
    "            minimum_nights=getattr(row, 'minimum_nights'), number_of_reviews=getattr(row, 'number_of_reviews'))]\n",
    "        locations += [[getattr(row, 'latitude'), getattr(row, 'longitude')]]\n",
    "\n",
    "    m = gmaps.Map()\n",
    "    marker_layer = gmaps.marker_layer(locations, info_box_content=apartment_info)\n",
    "    m.add_layer(marker_layer)\n",
    "    display(m)"
   ]
  },
  {
   "cell_type": "markdown",
   "metadata": {},
   "source": [
    "## Main program"
   ]
  },
  {
   "cell_type": "code",
   "execution_count": 7,
   "metadata": {},
   "outputs": [
    {
     "data": {
      "application/vnd.jupyter.widget-view+json": {
       "model_id": "68049e73dd56424e9f4216a352e3cac9"
      }
     },
     "metadata": {},
     "output_type": "display_data"
    },
    {
     "data": {
      "application/vnd.jupyter.widget-view+json": {
       "model_id": "52c4b995a6794b66839f7ad5e369f5ff"
      }
     },
     "metadata": {},
     "output_type": "display_data"
    },
    {
     "data": {
      "text/plain": [
       "<function __main__.show_analysis>"
      ]
     },
     "execution_count": 7,
     "metadata": {},
     "output_type": "execute_result"
    }
   ],
   "source": [
    "# Show license's check\n",
    "display(license_check)\n",
    "\n",
    "# Create gmaps wigdet\n",
    "m = gmaps.Map()\n",
    "\n",
    "# Show interact button, in order to execute the price's filter and show gmaps widget\n",
    "#interact(show_analysis, price = (min_price, max_price, 1))\n",
    "interact_manual(show_analysis, max_price_filter = (min_price, max_price, 1))"
   ]
  }
 ],
 "metadata": {
  "kernelspec": {
   "display_name": "Python 3",
   "language": "python",
   "name": "python3"
  },
  "language_info": {
   "codemirror_mode": {
    "name": "ipython",
    "version": 3
   },
   "file_extension": ".py",
   "mimetype": "text/x-python",
   "name": "python",
   "nbconvert_exporter": "python",
   "pygments_lexer": "ipython3",
   "version": "3.6.1"
  }
 },
 "nbformat": 4,
 "nbformat_minor": 1
}
