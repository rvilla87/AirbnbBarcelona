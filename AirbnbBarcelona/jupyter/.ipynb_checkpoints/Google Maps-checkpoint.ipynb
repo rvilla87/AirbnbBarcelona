{
 "cells": [
  {
   "cell_type": "code",
   "execution_count": 17,
   "metadata": {
    "collapsed": true
   },
   "outputs": [],
   "source": [
    "from ipywidgets import widgets\n",
    "import numpy as np\n",
    "import pandas as pd\n",
    "import gmaps\n",
    "import googlemaps\n",
    "import os\n",
    "# print(os.getcwd()) # es la carpeta jupyter\n",
    "import sys\n",
    "sys.path.append('../../') # secret.py lo cargará de la raíz del proyecto Data-Science\n",
    "import secret\n",
    "gmaps.configure(api_key=secret.GMAPS_KEY) # Your Google API key\n",
    "#gmaps = googlemaps.Client(key=secret.GMAPS_KEY)"
   ]
  },
  {
   "cell_type": "code",
   "execution_count": 55,
   "metadata": {},
   "outputs": [
    {
     "data": {
      "text/plain": [
       "{0: {'id': 8207551,\n",
       "  'last_review': '2015-09-27',\n",
       "  'latitude': 41.3808442104594,\n",
       "  'longitude': 2.163839677610885,\n",
       "  'minimum_nights': 1,\n",
       "  'name': 'Room in Sant Antoni huge terrasse',\n",
       "  'number_of_reviews': 2,\n",
       "  'price': 39,\n",
       "  'reviews_per_month': 0.11,\n",
       "  'room_type': 'Private room'},\n",
       " 1: {'id': 14958299,\n",
       "  'last_review': '2017-02-09',\n",
       "  'latitude': 41.379712139441814,\n",
       "  'longitude': 2.1644658002943986,\n",
       "  'minimum_nights': 1,\n",
       "  'name': 'Next To Las Ramblas, Unique, Wif1',\n",
       "  'number_of_reviews': 15,\n",
       "  'price': 60,\n",
       "  'reviews_per_month': 2.26,\n",
       "  'room_type': 'Entire home/apt'},\n",
       " 2: {'id': 7766152,\n",
       "  'last_review': '2015-11-16',\n",
       "  'latitude': 41.3809633214534,\n",
       "  'longitude': 2.165327414236724,\n",
       "  'minimum_nights': 2,\n",
       "  'name': 'Sunny whole flat in Raval/Ramblas',\n",
       "  'number_of_reviews': 8,\n",
       "  'price': 55,\n",
       "  'reviews_per_month': 0.4,\n",
       "  'room_type': 'Entire home/apt'}}"
      ]
     },
     "execution_count": 55,
     "metadata": {},
     "output_type": "execute_result"
    }
   ],
   "source": [
    "listing = pd.read_csv('../datasets/listings.csv')\n",
    "#listing.head(10).to_excel('lista.xls')\n",
    "listing = listing.drop(['host_id', 'host_name', 'neighbourhood_group', 'neighbourhood', 'calculated_host_listings_count', 'availability_365'], axis=1)\n",
    "\n",
    "dict_listing = listing.head(3).to_dict(orient='index')\n",
    "#dict_listing\n",
    "\n",
    "localizaciones = [apartamento[\"location\"] for apartamento in dict_listing]\n",
    "info_box_template = \"\"\"\n",
    "<dl>\n",
    "<dt>ID: {id}</dt><dd>{name}</dd>\n",
    "<dt>Tipo propiedad</dt><dd>{property_type}</dd>\n",
    "</dl>\n",
    "\"\"\"\n",
    "\n",
    "apartamento_info = [info_box_template.format(**apartamento) for apartamento in apartamentos]\n",
    "\n",
    "marker_layer = gmaps.marker_layer(localizaciones, info_box_content=apartamento_info)\n",
    "m = gmaps.Map()\n",
    "m.add_layer(marker_layer)\n",
    "m\n",
    "\n",
    "#locations=(listing.head(10).values[:,6:8]).tolist()\n",
    "#locations\n",
    "\n",
    "#for location in locations:\n",
    "#    print(\"loc\" + str(location))"
   ]
  },
  {
   "cell_type": "code",
   "execution_count": null,
   "metadata": {
    "collapsed": true
   },
   "outputs": [],
   "source": [
    "# no funciona: module 'gmaps' has no attribute 'geocode'\n",
    "# geocode_result = gmaps.geocode('1600 Amphitheatre Parkway, Mountain View, CA')\n",
    "\n",
    "m = gmaps.Map()\n",
    "m.add_layer(gmaps.heatmap_layer(locations))\n",
    "m"
   ]
  },
  {
   "cell_type": "code",
   "execution_count": null,
   "metadata": {
    "collapsed": true
   },
   "outputs": [],
   "source": []
  },
  {
   "cell_type": "code",
   "execution_count": 46,
   "metadata": {},
   "outputs": [
    {
     "data": {
      "application/vnd.jupyter.widget-view+json": {
       "model_id": "952d591d553a45d4b1c20c3bbb9f6c09"
      }
     },
     "metadata": {},
     "output_type": "display_data"
    }
   ],
   "source": [
    "apartamentos = [\n",
    "    {\"id\": 8207551, \"name\": \"Primero\", \"location\": [41.3808442104594, 2.163839677610885], \"property_type\": \"Apartamento\"},\n",
    "    {\"id\": 434332, \"name\": \"Segundo\", \"location\": [41.379712139441814, 2.1644658002943986], \"property_type\": \"Casa\"},\n",
    "    {\"id\": 6676, \"name\": \"Tercero\", \"location\": [41.377832077541385, 2.1648009945320275], \"property_type\": \"Chalet\"}\n",
    "]\n",
    "\n",
    "localizaciones = [apartamento[\"location\"] for apartamento in apartamentos]\n",
    "info_box_template = \"\"\"\n",
    "<dl>\n",
    "<dt>ID: {id}</dt><dd>{name}</dd>\n",
    "<dt>Tipo propiedad</dt><dd>{property_type}</dd>\n",
    "</dl>\n",
    "\"\"\"\n",
    "\n",
    "apartamento_info = [info_box_template.format(**apartamento) for apartamento in apartamentos]\n",
    "\n",
    "marker_layer = gmaps.marker_layer(localizaciones, info_box_content=apartamento_info)\n",
    "m = gmaps.Map()\n",
    "m.add_layer(marker_layer)\n",
    "m"
   ]
  },
  {
   "cell_type": "code",
   "execution_count": 40,
   "metadata": {},
   "outputs": [
    {
     "data": {
      "application/vnd.jupyter.widget-view+json": {
       "model_id": "a8752b88214d45238847a72468bfe5e8"
      }
     },
     "metadata": {},
     "output_type": "display_data"
    }
   ],
   "source": [
    "nuclear_power_plants = [\n",
    "    {\"name\": \"Atucha\", \"location\": (-34.0, -59.167), \"active_reactors\": 1},\n",
    "    {\"name\": \"Embalse\", \"location\": (-32.2333, -64.4333), \"active_reactors\": 1},\n",
    "]\n",
    "\n",
    "plant_locations = [plant[\"location\"] for plant in nuclear_power_plants]\n",
    "info_box_template = \"\"\"\n",
    "<dl>\n",
    "<dt>Name</dt><dd>{name}</dd>\n",
    "<dt>Number reactors</dt><dd>{active_reactors}</dd>\n",
    "</dl>\n",
    "\"\"\"\n",
    "plant_info = [info_box_template.format(**plant) for plant in nuclear_power_plants]\n",
    "\n",
    "marker_layer = gmaps.marker_layer(plant_locations, info_box_content=plant_info)\n",
    "m = gmaps.Map()\n",
    "m.add_layer(marker_layer)\n",
    "m"
   ]
  },
  {
   "cell_type": "code",
   "execution_count": null,
   "metadata": {
    "collapsed": true
   },
   "outputs": [],
   "source": []
  },
  {
   "cell_type": "code",
   "execution_count": null,
   "metadata": {
    "collapsed": true
   },
   "outputs": [],
   "source": []
  },
  {
   "cell_type": "code",
   "execution_count": null,
   "metadata": {
    "collapsed": true
   },
   "outputs": [],
   "source": []
  }
 ],
 "metadata": {
  "kernelspec": {
   "display_name": "Python 3",
   "language": "python",
   "name": "python3"
  },
  "language_info": {
   "codemirror_mode": {
    "name": "ipython",
    "version": 3
   },
   "file_extension": ".py",
   "mimetype": "text/x-python",
   "name": "python",
   "nbconvert_exporter": "python",
   "pygments_lexer": "ipython3",
   "version": "3.6.1"
  }
 },
 "nbformat": 4,
 "nbformat_minor": 1
}
