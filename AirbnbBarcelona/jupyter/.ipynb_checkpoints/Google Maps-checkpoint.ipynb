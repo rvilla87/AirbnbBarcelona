{
 "cells": [
  {
   "cell_type": "code",
   "execution_count": null,
   "metadata": {
    "collapsed": true
   },
   "outputs": [],
   "source": [
    "from ipywidgets import widgets\n",
    "import numpy as np\n",
    "import pandas as pd\n",
    "import gmaps\n",
    "import googlemaps\n",
    "import os\n",
    "# print(os.getcwd()) # es la carpeta jupyter\n",
    "import sys\n",
    "sys.path.append('../../') # secret.py lo cargará de la raíz del proyecto Data-Science\n",
    "import secret\n",
    "gmaps.configure(api_key=secret.GMAPS_KEY) # Your Google API key\n",
    "#gmaps = googlemaps.Client(key=secret.GMAPS_KEY)"
   ]
  },
  {
   "cell_type": "code",
   "execution_count": 136,
   "metadata": {
    "scrolled": true
   },
   "outputs": [
    {
     "data": {
      "application/vnd.jupyter.widget-view+json": {
       "model_id": "c8f5de93f9564bea94bd4113696d281c"
      }
     },
     "metadata": {},
     "output_type": "display_data"
    }
   ],
   "source": [
    "ruta_datasets = '../datasets/'\n",
    "limit = 100 # numero de registros a leer, -1 para todos\n",
    "\n",
    "fields_to_drop = ['host_id', 'host_name', 'neighbourhood_group', 'neighbourhood', 'calculated_host_listings_count',\n",
    "                  'availability_365', 'price', 'number_of_reviews', 'last_review', 'reviews_per_month']\n",
    "listing = pd.read_csv(ruta_datasets + 'listings.csv').head(limit).drop(fields_to_drop, axis=1)\n",
    "\n",
    "fields_to_drop = ['summary', 'space', 'description', 'neighborhood_overview', 'transit', 'access', 'interaction',\n",
    "                  'name', 'notes', 'house_rules', 'host_about', 'host_verifications', 'latitude', 'longitude',\n",
    "                  'room_type', 'minimum_nights']\n",
    "listing_detail = pd.read_csv(ruta_datasets + 'listings.csv.gz',\n",
    "                             dtype={'zipcode': str}).head(limit).drop(fields_to_drop, axis=1)\n",
    "\n",
    "lista_total = pd.merge(listing, listing_detail, on='id')\n",
    "\n",
    "dict_listing = lista_total.to_dict(orient='index')\n",
    "\n",
    "info_box_template = \"\"\"\n",
    "<dl>\n",
    "<dt>ID: {id}</dt><dd>{name}</dd>\n",
    "<dt>Precio</dt><dd>{price}</dd>\n",
    "<dt>Tipo de propiedad y habitación</dt><dd>{property_type}, {room_type}</dd>\n",
    "<dt>Mínimo de noches</dt><dd>{minimum_nights}</dd>\n",
    "<dt>Reseñas realizadas</dt><dd>{number_of_reviews}</dd>\n",
    "</dl>\n",
    "\"\"\"\n",
    "apartamento_info = []\n",
    "localizaciones = []\n",
    "\n",
    "for a in dict_listing:\n",
    "    apartamento_info += [info_box_template.format(\n",
    "        id=dict_listing[a]['id'], name=dict_listing[a]['name'], price=dict_listing[a]['price'],\n",
    "        property_type=dict_listing[a]['property_type'], room_type=dict_listing[a]['room_type'],\n",
    "        minimum_nights=dict_listing[a]['minimum_nights'], number_of_reviews=dict_listing[a]['number_of_reviews'])]\n",
    "    localizaciones += [[dict_listing[a]['latitude'], dict_listing[a]['longitude']]]\n",
    "\n",
    "m = gmaps.Map()\n",
    "marker_layer = gmaps.marker_layer(localizaciones, info_box_content=apartamento_info)\n",
    "m.add_layer(marker_layer)\n",
    "m\n"
   ]
  },
  {
   "cell_type": "code",
   "execution_count": null,
   "metadata": {
    "collapsed": true
   },
   "outputs": [],
   "source": []
  },
  {
   "cell_type": "code",
   "execution_count": null,
   "metadata": {
    "collapsed": true
   },
   "outputs": [],
   "source": []
  },
  {
   "cell_type": "code",
   "execution_count": null,
   "metadata": {
    "scrolled": true
   },
   "outputs": [],
   "source": []
  },
  {
   "cell_type": "code",
   "execution_count": null,
   "metadata": {},
   "outputs": [],
   "source": []
  },
  {
   "cell_type": "code",
   "execution_count": null,
   "metadata": {
    "collapsed": true
   },
   "outputs": [],
   "source": []
  },
  {
   "cell_type": "code",
   "execution_count": null,
   "metadata": {
    "collapsed": true
   },
   "outputs": [],
   "source": []
  },
  {
   "cell_type": "code",
   "execution_count": null,
   "metadata": {
    "collapsed": true
   },
   "outputs": [],
   "source": []
  }
 ],
 "metadata": {
  "kernelspec": {
   "display_name": "Python 3",
   "language": "python",
   "name": "python3"
  },
  "language_info": {
   "codemirror_mode": {
    "name": "ipython",
    "version": 3
   },
   "file_extension": ".py",
   "mimetype": "text/x-python",
   "name": "python",
   "nbconvert_exporter": "python",
   "pygments_lexer": "ipython3",
   "version": "3.6.1"
  }
 },
 "nbformat": 4,
 "nbformat_minor": 1
}
